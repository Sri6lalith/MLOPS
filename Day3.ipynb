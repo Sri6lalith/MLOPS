{
 "cells": [
  {
   "cell_type": "code",
   "execution_count": 1,
   "metadata": {},
   "outputs": [
    {
     "name": "stdout",
     "output_type": "stream",
     "text": [
      "10 is even.\n"
     ]
    }
   ],
   "source": [
    "num = 10\n",
    "if num % 2 == 0:\n",
    "    print(f\"{num} is even.\")\n",
    "else:\n",
    "    print(f\"{num} is odd.\")\n"
   ]
  },
  {
   "cell_type": "code",
   "execution_count": 2,
   "metadata": {},
   "outputs": [
    {
     "name": "stdout",
     "output_type": "stream",
     "text": [
      "Hello, Sri!\n",
      "Hello, Indira!\n",
      "Hello, Anusha!\n"
     ]
    }
   ],
   "source": [
    "names = [\"Sri\", \"Indira\", \"Anusha\"]\n",
    "\n",
    "for name in names:\n",
    "    print(f\"Hello, {name}!\")\n"
   ]
  },
  {
   "cell_type": "code",
   "execution_count": 3,
   "metadata": {},
   "outputs": [],
   "source": [
    "import random\n",
    "\n",
    "lower_bound = 1\n",
    "upper_bound = 100\n",
    "target_number = random.randint(lower_bound, upper_bound)\n",
    "\n",
    "while True:\n",
    "    guess = int(input(f\"Guess a number between {lower_bound} and {upper_bound}: \"))\n",
    "    if guess == target_number:\n",
    "        print(\"You guessed correctly.\")\n",
    "        break\n",
    "    elif guess < target_number:\n",
    "        print(\"Try a higher number.\")\n",
    "    else:\n",
    "        print(\"Try a lower number.\")\n"
   ]
  },
  {
   "cell_type": "code",
   "execution_count": 3,
   "metadata": {},
   "outputs": [
    {
     "name": "stdout",
     "output_type": "stream",
     "text": [
      "Headset is very low in stock.\n"
     ]
    }
   ],
   "source": [
    "products = [\n",
    "    {\"name\": \"T-Shirt\", \"price\": 15.99, \"quantity\": 100},\n",
    "    {\"name\": \"Coffee Mug\", \"price\": 7.50, \"quantity\": 50},\n",
    "    {\"name\": \"Notebook\", \"price\": 8.99, \"quantity\": 75},\n",
    "    {\"name\": \"Headset\", \"price\": 19.50, \"quantity\": 12}, \n",
    "]\n",
    "\n",
    "for product in products:\n",
    "    if product[\"quantity\"] < 20:\n",
    "        print(f\"{product['name']} is very low in stock.\")\n"
   ]
  },
  {
   "cell_type": "code",
   "execution_count": 5,
   "metadata": {},
   "outputs": [
    {
     "name": "stdout",
     "output_type": "stream",
     "text": [
      "Product names: ['T-Shirt', 'Coffee Mug', 'Notebook', 'Headset']\n",
      "Product prices: ['$15.99', '$7.50', '$8.99', '$19.50']\n"
     ]
    }
   ],
   "source": [
    "product_names = [product[\"name\"] for product in products]\n",
    "product_prices = [f\"${product['price']:.2f}\" for product in products]\n",
    "\n",
    "print(\"Product names:\", product_names)\n",
    "print(\"Product prices:\", product_prices)\n"
   ]
  },
  {
   "cell_type": "code",
   "execution_count": 8,
   "metadata": {},
   "outputs": [
    {
     "name": "stdout",
     "output_type": "stream",
     "text": [
      "Address using '+':\n",
      "60 main St,\n",
      "Boston,\n",
      "United States\n",
      "\n",
      "Address (f-string):\n",
      "60 main St,\n",
      "Boston,\n",
      "United States\n"
     ]
    }
   ],
   "source": [
    "street = \"60 main St\"\n",
    "city = \"Boston\"\n",
    "country = \"United States\"\n",
    "\n",
    "# Using concatenation\n",
    "address_concat = street + \",\\n\" + city + \",\\n\" + country\n",
    "print(\"Address using '+':\")\n",
    "print(address_concat)\n",
    "\n",
    "# Using f-string\n",
    "address_fstring = f\"{street},\\n{city},\\n{country}\"\n",
    "print(\"\\nAddress (f-string):\")\n",
    "print(address_fstring)\n"
   ]
  },
  {
   "cell_type": "code",
   "execution_count": 10,
   "metadata": {},
   "outputs": [
    {
     "name": "stdout",
     "output_type": "stream",
     "text": [
      "revolves\n",
      "sun\n"
     ]
    }
   ],
   "source": [
    "\n",
    "str = \"Earth revolves around the sun\"\n",
    "\n",
    "# Print \"revolves\" using slice operator\n",
    "print(str[6:14])\n",
    "\n",
    "# Print \"sun\" using negative index\n",
    "print(str[-3:])\n"
   ]
  },
  {
   "cell_type": "code",
   "execution_count": 12,
   "metadata": {},
   "outputs": [
    {
     "name": "stdout",
     "output_type": "stream",
     "text": [
      "I eat 3 veggies and 2 fruits daily.\n"
     ]
    }
   ],
   "source": [
    "\n",
    "#veggies per day\n",
    "veggies = 3\n",
    "#fruits per day\n",
    "fruits = 2\n",
    "\n",
    "# Print using f-string\n",
    "print(f\"I eat {veggies} veggies and {fruits} fruits daily.\")\n"
   ]
  },
  {
   "cell_type": "code",
   "execution_count": 13,
   "metadata": {},
   "outputs": [
    {
     "name": "stdout",
     "output_type": "stream",
     "text": [
      "maine 10 samosa khaye\n"
     ]
    }
   ],
   "source": [
    "# Original string\n",
    "sentence = 'maine 200 banana khaye'\n",
    "\n",
    "# Print the corrected string\n",
    "print(sentence.replace('200 banana', '10 samosa'))\n"
   ]
  },
  {
   "cell_type": "code",
   "execution_count": 15,
   "metadata": {},
   "outputs": [
    {
     "name": "stdout",
     "output_type": "stream",
     "text": [
      "Chennai is in India.\n",
      "Both cities are in India.\n"
     ]
    }
   ],
   "source": [
    "# Lists of cities per country\n",
    "india = [\"mumbai\", \"bangalore\", \"chennai\", \"delhi\"]\n",
    "pakistan = [\"lahore\", \"karachi\", \"islamabad\"]\n",
    "bangladesh = [\"dhaka\", \"khulna\", \"rangpur\"]\n",
    "\n",
    "# a. Program to identify the country of a given city\n",
    "#city = input(\"Enter a city name: \").lower()\n",
    "city = \"chennai\"\n",
    "\n",
    "if city in india:\n",
    "    print(f\"{city.title()} is in India.\")\n",
    "elif city in pakistan:\n",
    "    print(f\"{city.title()} is in Pakistan.\")\n",
    "elif city in bangladesh:\n",
    "    print(f\"{city.title()} is in Bangladesh.\")\n",
    "else:\n",
    "    print(f\"{city.title()} is not in the list of known cities.\")\n",
    "\n",
    "# b. Program to check if two cities belong to the same country\n",
    "#city1 = input(\"Enter the first city: \").lower()\n",
    "#city2 = input(\"Enter the second city: \").lower()\n",
    "city1 = \"mumbai\"\n",
    "city2 = \"delhi\"\n",
    "\n",
    "def country(city):\n",
    "    if city in india:\n",
    "        return \"India\"\n",
    "    elif city in pakistan:\n",
    "        return \"Pakistan\"\n",
    "    elif city in bangladesh:\n",
    "        return \"Bangladesh\"\n",
    "    else:\n",
    "        return None\n",
    "\n",
    "country1 = country(city1)\n",
    "country2 = country(city2)\n",
    "\n",
    "if country1 and country2:\n",
    "    if country1 == country2:\n",
    "        print(f\"Both cities are in {country1}.\")\n",
    "    else:\n",
    "        print(\"They don't belong to the same country.\")\n",
    "else:\n",
    "    print(\"One or both cities are not in the list of known cities.\")\n"
   ]
  },
  {
   "cell_type": "code",
   "execution_count": 2,
   "metadata": {},
   "outputs": [
    {
     "name": "stdout",
     "output_type": "stream",
     "text": [
      "Your sugar level is normal.\n"
     ]
    }
   ],
   "source": [
    "\n",
    "#sugar_level = int(input(\"Enter your fasting sugar level: \"))\n",
    "sugar_level = 86\n",
    "\n",
    "# Check the sugar level\n",
    "if sugar_level < 80:\n",
    "    print(\"Your sugar level is low.\")\n",
    "elif sugar_level > 100:\n",
    "    print(\"Your sugar level is high.\")\n",
    "else:\n",
    "    print(\"Your sugar level is normal.\")\n"
   ]
  },
  {
   "cell_type": "code",
   "execution_count": 3,
   "metadata": {},
   "outputs": [
    {
     "name": "stdout",
     "output_type": "stream",
     "text": [
      "Out of 10 times, Heads appeared 4 times.\n"
     ]
    }
   ],
   "source": [
    "# List of coin flip results\n",
    "results = [\"heads\", \"tails\", \"tails\", \"heads\", \"tails\", \"heads\", \"heads\", \"tails\", \"tails\", \"tails\"]\n",
    "\n",
    "\n",
    "heads_count = 0\n",
    "for result in results:\n",
    "    if result == \"heads\":\n",
    "        heads_count += 1\n",
    "\n",
    "\n",
    "print(f\"Out of 10 times, Heads appeared {heads_count} times.\")\n"
   ]
  },
  {
   "cell_type": "code",
   "execution_count": 5,
   "metadata": {},
   "outputs": [
    {
     "name": "stdout",
     "output_type": "stream",
     "text": [
      "Square of 1 is 1\n",
      "Square of 3 is 9\n",
      "Square of 5 is 25\n",
      "Square of 7 is 49\n",
      "Square of 9 is 81\n"
     ]
    }
   ],
   "source": [
    "\n",
    "for number in range(1, 11):\n",
    "    if number % 2 != 0:\n",
    "        print(f\"Square of {number} is {number ** 2}\")\n"
   ]
  },
  {
   "cell_type": "code",
   "execution_count": 6,
   "metadata": {},
   "outputs": [
    {
     "name": "stdout",
     "output_type": "stream",
     "text": [
      "The expense of 2100 occurred in March.\n"
     ]
    }
   ],
   "source": [
    "\n",
    "expense_list = [2340, 2500, 2100, 3100, 2980]\n",
    "months = {0: \"January\", 1: \"February\", 2: \"March\", 3: \"April\", 4: \"May\"}\n",
    "\n",
    "#expense_amt = int(input(\"Enter an expense amount: \"))\n",
    "expense_amt = 2100\n",
    "if expense_amt in expense_list:\n",
    "    month = expense_list.index(expense_amt)\n",
    "    print(f\"The expense of {expense_amt} occurred in {months[month]}.\")\n",
    "else:\n",
    "    print(\"Expense not found.\")\n"
   ]
  },
  {
   "cell_type": "code",
   "execution_count": 7,
   "metadata": {},
   "outputs": [],
   "source": [
    "for km in range(1, 6):\n",
    "    if km == 5:\n",
    "        print(f\"You have completed {km} km. Congratulations! You finished the race.\")\n",
    "        break\n",
    "    ans = input(f\"You have completed {km} km. Are you tired? (yes/no): \").strip().lower()\n",
    "    if ans == \"yes\":\n",
    "        print(\"You didn't finish the race.\")\n",
    "        break\n",
    "    elif ans == \"no\":\n",
    "        continue\n",
    "    else:\n",
    "        print(\"Invalid input. Please reply with 'yes' or 'no'.\")\n",
    "\n"
   ]
  }
 ],
 "metadata": {
  "kernelspec": {
   "display_name": "Python 3",
   "language": "python",
   "name": "python3"
  },
  "language_info": {
   "codemirror_mode": {
    "name": "ipython",
    "version": 3
   },
   "file_extension": ".py",
   "mimetype": "text/x-python",
   "name": "python",
   "nbconvert_exporter": "python",
   "pygments_lexer": "ipython3",
   "version": "3.11.1"
  }
 },
 "nbformat": 4,
 "nbformat_minor": 2
}
