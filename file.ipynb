{
 "cells": [
  {
   "cell_type": "code",
   "execution_count": 1,
   "metadata": {},
   "outputs": [
    {
     "ename": "NameError",
     "evalue": "name 'Car' is not defined",
     "output_type": "error",
     "traceback": [
      "\u001b[1;31m---------------------------------------------------------------------------\u001b[0m",
      "\u001b[1;31mNameError\u001b[0m                                 Traceback (most recent call last)",
      "Cell \u001b[1;32mIn[1], line 1\u001b[0m\n\u001b[1;32m----> 1\u001b[0m \u001b[38;5;28;01mclass\u001b[39;00m \u001b[38;5;21;01mElectricCar\u001b[39;00m(\u001b[43mCar\u001b[49m):  \u001b[38;5;66;03m# Subclass inherits from Car\u001b[39;00m\n\u001b[0;32m      2\u001b[0m   \u001b[38;5;28;01mdef\u001b[39;00m \u001b[38;5;21m__init__\u001b[39m(\u001b[38;5;28mself\u001b[39m, make, model, year, battery_range):\n\u001b[0;32m      3\u001b[0m     \u001b[38;5;28msuper\u001b[39m()\u001b[38;5;241m.\u001b[39m\u001b[38;5;21m__init__\u001b[39m(make, model, year)  \u001b[38;5;66;03m# Call the superclass constructor\u001b[39;00m\n",
      "\u001b[1;31mNameError\u001b[0m: name 'Car' is not defined"
     ]
    }
   ],
   "source": [
    "class ElectricCar(Car):  # Subclass inherits from Car\n",
    "  def __init__(self, make, model, year, battery_range):\n",
    "    super().__init__(make, model, year)  # Call the superclass constructor\n",
    "    self.battery_range = battery_range\n",
    "\n",
    "  def charge(self):\n",
    "    print(f\"Charging the {self.make} {self.model}...\")\n",
    "\n",
    "my_electric_car = ElectricCar(\"Tesla\", \"Model 3\", 2023, 350)\n",
    "my_electric_car.accelerate()  # Inherited method\n",
    "my_electric_car.charge()  # Specific method of ElectricCar"
   ]
  }
 ],
 "metadata": {
  "kernelspec": {
   "display_name": "Python 3",
   "language": "python",
   "name": "python3"
  },
  "language_info": {
   "codemirror_mode": {
    "name": "ipython",
    "version": 3
   },
   "file_extension": ".py",
   "mimetype": "text/x-python",
   "name": "python",
   "nbconvert_exporter": "python",
   "pygments_lexer": "ipython3",
   "version": "3.11.1"
  }
 },
 "nbformat": 4,
 "nbformat_minor": 2
}
