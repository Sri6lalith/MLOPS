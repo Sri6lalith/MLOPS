{
 "cells": [
  {
   "cell_type": "code",
   "execution_count": 1,
   "metadata": {},
   "outputs": [
    {
     "name": "stdout",
     "output_type": "stream",
     "text": [
      "Recommended Books:\n",
      "EFGH by Swetha (Classics)\n",
      "MNOP by Indhu (Classics)\n",
      "QRST by Nithya (Classics)\n",
      "Harry Potter and the Sorcerer's Stone by J.K. Rowling (Fantasy)\n",
      "The Fellowship of the Ring by J.R.R. Tolkien (Fantasy)\n",
      "The Two Towers by J.R.R. Tolkien (Fantasy)\n"
     ]
    }
   ],
   "source": [
    "class Book:\n",
    "    def __init__(self, book_id, title, genre, author):\n",
    "        self.book_id = book_id\n",
    "        self.title = title\n",
    "        self.genre = genre\n",
    "        self.author = author\n",
    "\n",
    "    def __repr__(self):\n",
    "        return f\"{self.title} by {self.author} ({self.genre})\"\n",
    "\n",
    "class User:\n",
    "    def __init__(self, user_id, name):\n",
    "        self.user_id = user_id\n",
    "        self.name = name\n",
    "        self.wishlist = []\n",
    "\n",
    "    def add_to_wishlist(self, book):\n",
    "        self.wishlist.append(book)\n",
    "\n",
    "class RecommendationSystem:\n",
    "    def __init__(self, books):\n",
    "        self.books = books\n",
    "\n",
    "    def recommend_books(self, user):\n",
    "        recommended_books = []\n",
    "\n",
    "        # Get genres and authors from user wishlist\n",
    "        wishlist_genres = {book.genre for book in user.wishlist}\n",
    "        wishlist_authors = {book.author for book in user.wishlist}\n",
    "\n",
    "        # Content-based filtering: recommend books of similar genres or authors\n",
    "        for book in self.books:\n",
    "            if (book.genre in wishlist_genres or book.author in wishlist_authors) and book not in user.wishlist:\n",
    "                recommended_books.append(book)\n",
    "\n",
    "        # Collaborative filtering (simple random pick from similar books, for demo purposes)\n",
    "        if len(recommended_books) < 5:\n",
    "            additional_recommendations = random.sample([book for book in self.books if book not in recommended_books and book not in user.wishlist], 5 - len(recommended_books))\n",
    "            recommended_books.extend(additional_recommendations)\n",
    "\n",
    "        return recommended_books\n",
    "\n",
    "# Sample data\n",
    "books = [\n",
    "    Book(1, \"ABCD\", \"Classics\", \"Manisha\"),\n",
    "    Book(2, \"EFGH\", \"Classics\", \"Swetha\"),\n",
    "    Book(3, \"IJKL\", \"Fantasy\", \"Sangeetha\"),\n",
    "    Book(4, \"MNOP\", \"Classics\", \"Indhu\"),\n",
    "    Book(5, \"QRST\", \"Classics\", \"Nithya\"),\n",
    "    Book(6, \"UVWX\", \"Dystopian\", \"Anna\"),\n",
    "    Book(7, \"The Hobbit\", \"Fantasy\", \"J.R.R. Tolkien\"),\n",
    "    Book(8, \"Harry Potter and the Sorcerer's Stone\", \"Fantasy\", \"J.K. Rowling\"),\n",
    "    Book(9, \"The Fellowship of the Ring\", \"Fantasy\", \"J.R.R. Tolkien\"),\n",
    "    Book(10, \"The Two Towers\", \"Fantasy\", \"J.R.R. Tolkien\")\n",
    "]\n",
    "\n",
    "# User wishlist\n",
    "user = User(1, \"John Doe\")\n",
    "user.add_to_wishlist(books[0])\n",
    "user.add_to_wishlist(books[2])\n",
    "user.add_to_wishlist(books[6])\n",
    "\n",
    "# Recommendation system\n",
    "recommender = RecommendationSystem(books)\n",
    "recommendations = recommender.recommend_books(user)\n",
    "\n",
    "# Output the recommendations\n",
    "print(\"Recommended Books:\")\n",
    "for book in recommendations:\n",
    "    print(book)"
   ]
  },
  {
   "cell_type": "markdown",
   "metadata": {},
   "source": []
  }
 ],
 "metadata": {
  "kernelspec": {
   "display_name": "Python 3",
   "language": "python",
   "name": "python3"
  },
  "language_info": {
   "codemirror_mode": {
    "name": "ipython",
    "version": 3
   },
   "file_extension": ".py",
   "mimetype": "text/x-python",
   "name": "python",
   "nbconvert_exporter": "python",
   "pygments_lexer": "ipython3",
   "version": "3.11.1"
  }
 },
 "nbformat": 4,
 "nbformat_minor": 2
}
