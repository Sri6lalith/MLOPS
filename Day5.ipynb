{
 "cells": [
  {
   "cell_type": "markdown",
   "metadata": {},
   "source": [
    "\n"
   ]
  },
  {
   "cell_type": "code",
   "execution_count": 1,
   "metadata": {},
   "outputs": [
    {
     "name": "stdout",
     "output_type": "stream",
     "text": [
      "Sri's total marks: 360\n",
      "Sri's average score: 90.00\n"
     ]
    }
   ],
   "source": [
    "class Student:\n",
    "    def __init__(self, name, roll_number, marks):\n",
    "        self.name = name\n",
    "        self.roll_number = roll_number\n",
    "        self.marks = marks\n",
    "\n",
    "    def calculate_total_marks(self):\n",
    "        return sum(self.marks)\n",
    "\n",
    "    def calculate_average_score(self):\n",
    "        if not self.marks:\n",
    "            return 0\n",
    "        return sum(self.marks) / len(self.marks)\n",
    "\n",
    "student1 = Student(\"Sri\", 6, [80, 90, 98, 92])\n",
    "print(f\"{student1.name}'s total marks: {student1.calculate_total_marks()}\")\n",
    "print(f\"{student1.name}'s average score: {student1.calculate_average_score():.2f}\")"
   ]
  },
  {
   "cell_type": "code",
   "execution_count": 3,
   "metadata": {},
   "outputs": [
    {
     "name": "stdout",
     "output_type": "stream",
     "text": [
      "Rectangle area: 18\n",
      "Rectangle perimeter: 18\n"
     ]
    }
   ],
   "source": [
    "class Rectangle:\n",
    "    def __init__(self, width, height):\n",
    "        self.width = width\n",
    "        self.height = height\n",
    "\n",
    "    def calculate_area(self):\n",
    "        return self.width * self.height\n",
    "\n",
    "    def calculate_perimeter(self):\n",
    "        return 2 * (self.width + self.height)\n",
    "\n",
    "\n",
    "rectangle1 = Rectangle(6, 3)\n",
    "print(f\"Rectangle area: {rectangle1.calculate_area()}\")\n",
    "print(f\"Rectangle perimeter: {rectangle1.calculate_perimeter()}\")\n"
   ]
  },
  {
   "cell_type": "code",
   "execution_count": 4,
   "metadata": {},
   "outputs": [
    {
     "name": "stdout",
     "output_type": "stream",
     "text": [
      "Employee: Sri\n",
      "Salary: $66000.00\n",
      "Department: Engineering\n"
     ]
    }
   ],
   "source": [
    "class Employee:\n",
    "    def __init__(self, name, salary, department):\n",
    "        self.name = name\n",
    "        self.salary = salary\n",
    "        self.department = department\n",
    "\n",
    "    def apply_raise(self, percentage):\n",
    "        self.salary *= (1 + percentage / 100)\n",
    "\n",
    "    def display_info(self):\n",
    "        print(f\"Employee: {self.name}\")\n",
    "        print(f\"Salary: ${self.salary:.2f}\")\n",
    "        print(f\"Department: {self.department}\")\n",
    "\n",
    "# Example usage:\n",
    "employee1 = Employee(\"Sri\", 60000, \"Engineering\")\n",
    "employee1.apply_raise(10)  # Applying a 10% raise\n",
    "employee1.display_info()\n"
   ]
  },
  {
   "cell_type": "code",
   "execution_count": 8,
   "metadata": {},
   "outputs": [
    {
     "name": "stdout",
     "output_type": "stream",
     "text": [
      "Woof!\n",
      "Meow!\n"
     ]
    }
   ],
   "source": [
    "class Animal:\n",
    "    def __init__(self, name, animal_type):\n",
    "        self.name = name\n",
    "        self.animal_type = animal_type\n",
    "\n",
    "    def make_sound(self):\n",
    "        print(\"Some generic animal sound\")\n",
    "\n",
    "class Dog(Animal):\n",
    "    def __init__(self, name):\n",
    "        super().__init__(name, \"mammal\")\n",
    "\n",
    "    def make_sound(self):\n",
    "        print(\"Woof!\")\n",
    "\n",
    "class Cat(Animal):\n",
    "    def __init__(self, name):\n",
    "        super().__init__(name, \"mammal\")\n",
    "\n",
    "    def make_sound(self):\n",
    "        print(\"Meow!\")\n",
    "\n",
    "dog = Dog(\"Rommy\")\n",
    "cat = Cat(\"Lucky\")\n",
    "\n",
    "dog.make_sound()  # Outputs: Woof! Woof!\n",
    "cat.make_sound()\n",
    "\n"
   ]
  },
  {
   "cell_type": "code",
   "execution_count": 9,
   "metadata": {},
   "outputs": [
    {
     "name": "stdout",
     "output_type": "stream",
     "text": [
      "The engine of Toyota SUV 2020 is starting.\n",
      "Vehicle Info: 2020 Toyota SUV\n",
      "Number of doors: 4\n",
      "The engine of Royal Enfield STV00R 2021 is starting.\n",
      "Vehicle Info: 2021 Royal Enfield STV00R\n",
      "Engine size: 500 cc\n"
     ]
    }
   ],
   "source": [
    "class Vehicle:\n",
    "    def __init__(self, make, model, year):\n",
    "        self.make = make\n",
    "        self.model = model\n",
    "        self.year = year\n",
    "\n",
    "    def start_engine(self):\n",
    "        print(f\"The engine of {self.make} {self.model} {self.year} is starting.\")\n",
    "\n",
    "    def display_info(self):\n",
    "        print(f\"Vehicle Info: {self.year} {self.make} {self.model}\")\n",
    "class Car(Vehicle):\n",
    "    def __init__(self, make, model, year, num_doors):\n",
    "        super().__init__(make, model, year)\n",
    "        self.num_doors = num_doors\n",
    "\n",
    "    def display_info(self):\n",
    "        super().display_info()\n",
    "        print(f\"Number of doors: {self.num_doors}\")\n",
    "\n",
    "class Motorcycle(Vehicle):\n",
    "    def __init__(self, make, model, year, engine_size):\n",
    "        super().__init__(make, model, year)\n",
    "        self.engine_size = engine_size\n",
    "\n",
    "    def display_info(self):\n",
    "        super().display_info()\n",
    "        print(f\"Engine size: {self.engine_size} cc\")\n",
    "car = Car(\"Toyota\", \"SUV\", 2020, 4)\n",
    "motorcycle = Motorcycle(\"Royal Enfield\", \"STV00R\", 2021, 500)\n",
    "\n",
    "car.start_engine()       \n",
    "car.display_info()       \n",
    "                        \n",
    "\n",
    "motorcycle.start_engine()  \n",
    "motorcycle.display_info()  \n",
    "                           "
   ]
  },
  {
   "cell_type": "code",
   "execution_count": 10,
   "metadata": {},
   "outputs": [
    {
     "name": "stdout",
     "output_type": "stream",
     "text": [
      "Total area: 32.260000000000005\n"
     ]
    }
   ],
   "source": [
    "from abc import ABC, abstractmethod\n",
    "\n",
    "class Shape(ABC):\n",
    "    @abstractmethod\n",
    "    def calculate_area(self):\n",
    "        pass\n",
    "\n",
    "class Square(Shape):\n",
    "    def __init__(self, side_length):\n",
    "        self.side_length = side_length\n",
    "\n",
    "    def calculate_area(self):\n",
    "        return self.side_length ** 2\n",
    "\n",
    "class Circle(Shape):\n",
    "    def __init__(self, radius):\n",
    "        self.radius = radius\n",
    "\n",
    "    def calculate_area(self):\n",
    "        return 3.14 * self.radius ** 2\n",
    "\n",
    "def get_total_area(shapes):\n",
    "    total_area = 0\n",
    "    for shape in shapes:\n",
    "        total_area += shape.calculate_area()\n",
    "    return total_area\n",
    "\n",
    "shapes = [Square(2), Circle(3)]\n",
    "print(\"Total area:\", get_total_area(shapes)) "
   ]
  },
  {
   "cell_type": "code",
   "execution_count": 12,
   "metadata": {},
   "outputs": [
    {
     "name": "stdout",
     "output_type": "stream",
     "text": [
      "Hello, I'm a person!\n",
      "Hello, I'm an object!\n"
     ]
    }
   ],
   "source": [
    "class Person:\n",
    "    def say_hello(self):\n",
    "        print(\"Hello, I'm a person!\")\n",
    "\n",
    "class Animal:\n",
    "    pass\n",
    "\n",
    "def greet(obj):\n",
    "    if hasattr(obj, 'say_hello'):\n",
    "        obj.say_hello()\n",
    "    else:\n",
    "        print(\"Hello, I'm an object!\")\n",
    "\n",
    "person = Person()\n",
    "animal = Animal()\n",
    "\n",
    "greet(person)  \n",
    "greet(animal)  "
   ]
  },
  {
   "cell_type": "code",
   "execution_count": 14,
   "metadata": {},
   "outputs": [
    {
     "name": "stdout",
     "output_type": "stream",
     "text": [
      "940\n"
     ]
    }
   ],
   "source": [
    "class BankAccount:\n",
    "    def __init__(self, account_number):\n",
    "        self.__account_number = account_number\n",
    "        self._balance = 0\n",
    "\n",
    "    def deposit(self, amount):\n",
    "        if amount > 0:\n",
    "            self._balance += amount\n",
    "        else:\n",
    "            print(\"Invalid deposit amount.\")\n",
    "\n",
    "    def withdraw(self, amount):\n",
    "        if amount > 0 and amount <= self._balance:\n",
    "            self._balance -= amount\n",
    "        else:\n",
    "            print(\"Invalid withdrawal amount.\")\n",
    "\n",
    "    def get_balance(self):\n",
    "        return self._balance\n",
    "\n",
    "\n",
    "account = BankAccount(12345)\n",
    "account.deposit(1000)\n",
    "account.withdraw(60)\n",
    "print(account.get_balance())  "
   ]
  },
  {
   "cell_type": "code",
   "execution_count": 15,
   "metadata": {},
   "outputs": [
    {
     "name": "stdout",
     "output_type": "stream",
     "text": [
      "8\n",
      "5\n",
      "6\n",
      "2.0\n"
     ]
    }
   ],
   "source": [
    "class Calculator:\n",
    "    def __init__(self):\n",
    "        pass\n",
    "\n",
    "    def add(self, num1, num2):\n",
    "        return self.__add(num1, num2)\n",
    "\n",
    "    def subtract(self, num1, num2):\n",
    "        return self.__subtract(num1, num2)\n",
    "\n",
    "    def multiply(self, num1, num2):\n",
    "        return self.__multiply(num1, num2)\n",
    "\n",
    "    def divide(self, num1, num2):\n",
    "        if num2 == 0:\n",
    "            raise ValueError(\"Cannot divide by zero.\")\n",
    "        return self.__divide(num1, num2)\n",
    "\n",
    "    def __add(self, a, b):\n",
    "        return a + b\n",
    "\n",
    "    def __subtract(self, a, b):\n",
    "        return a - b\n",
    "\n",
    "    def __multiply(self, a, b):\n",
    "        return a * b\n",
    "\n",
    "    def __divide(self, a, b):\n",
    "        return a / b\n",
    "\n",
    "# Example usage:\n",
    "calculator = Calculator()\n",
    "print(calculator.add(2, 6))\n",
    "print(calculator.subtract(7, 2)) \n",
    "print(calculator.multiply(2, 3))\n",
    "print(calculator.divide(10, 5))  "
   ]
  },
  {
   "cell_type": "code",
   "execution_count": null,
   "metadata": {},
   "outputs": [],
   "source": []
  }
 ],
 "metadata": {
  "kernelspec": {
   "display_name": "Python 3",
   "language": "python",
   "name": "python3"
  },
  "language_info": {
   "codemirror_mode": {
    "name": "ipython",
    "version": 3
   },
   "file_extension": ".py",
   "mimetype": "text/x-python",
   "name": "python",
   "nbconvert_exporter": "python",
   "pygments_lexer": "ipython3",
   "version": "3.11.1"
  }
 },
 "nbformat": 4,
 "nbformat_minor": 2
}
