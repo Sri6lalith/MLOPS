{
 "cells": [
  {
   "cell_type": "code",
   "execution_count": 1,
   "metadata": {},
   "outputs": [
    {
     "name": "stdout",
     "output_type": "stream",
     "text": [
      "Monthly Expenses: [2200, 2350, 2600, 2130, 2190]\n",
      "Extra spending in February: 150\n",
      "Total expense in the first quarter: 7150\n",
      "Spent exactly $2000 in any month: False\n",
      "Monthly Expenses: [2200, 2350, 2600, 2130, 2190, 1980]\n",
      "Monthly Expenses of April after refund: 1930\n"
     ]
    }
   ],
   "source": [
    "monthly_expenses = [2200, 2350, 2600, 2130, 2190]\n",
    "print(\"Monthly Expenses:\", monthly_expenses)\n",
    "# Calculate extra spending in February compared to January\n",
    "january_expense = monthly_expenses[0]\n",
    "february_expense = monthly_expenses[1]\n",
    "march_expense = monthly_expenses[2]\n",
    "april_expense = monthly_expenses[3]\n",
    "may__expense = monthly_expenses[4]\n",
    "\n",
    "extra_spending_february = february_expense - january_expense\n",
    "print(\"Extra spending in February:\", extra_spending_february)\n",
    "# Calculate total expense in the first quarter\n",
    "totalexpense_firstquarter = sum(monthly_expenses[:3])\n",
    "print(\"Total expense in the first quarter:\", totalexpense_firstquarter)\n",
    "# Check if you spent exactly $2000 in any month\n",
    "spent_2000 = 2000 in monthly_expenses\n",
    "print(\"Spent exactly $2000 in any month:\", spent_2000)\n",
    "# Add June's expense\n",
    "june_expense = 1980\n",
    "monthly_expenses.append(june_expense)\n",
    "print(\"Monthly Expenses:\", monthly_expenses)\n",
    "# Correct April's expense after refund\n",
    "corrected_april_expense = april_expense - 200\n",
    "monthly_expenses[3] = corrected_april_expense\n",
    "print(\"Monthly Expenses of April after refund:\", monthly_expenses[3])\n",
    "\n",
    "\n",
    "\n"
   ]
  },
  {
   "cell_type": "markdown",
   "metadata": {},
   "source": [
    "1. remove the comma at the end in 2nd line"
   ]
  },
  {
   "cell_type": "code",
   "execution_count": 3,
   "metadata": {},
   "outputs": [
    {
     "name": "stdout",
     "output_type": "stream",
     "text": [
      "Hello!\n",
      "Your name is sri.\n"
     ]
    }
   ],
   "source": [
    "print(\"Hello!\")\n",
    "name = input(\"Enter your name: \")\n",
    "print(\"Your name is \" + name + \".\")\n"
   ]
  },
  {
   "cell_type": "markdown",
   "metadata": {},
   "source": []
  },
  {
   "cell_type": "markdown",
   "metadata": {},
   "source": [
    "2. convert tuple into list. As tuples are immutable we cannot add values."
   ]
  },
  {
   "cell_type": "code",
   "execution_count": null,
   "metadata": {},
   "outputs": [],
   "source": [
    "namelist = ['wub_wub', 'RubyPinch', 'go|dfish', 'Nitori']\n",
    "namelist.append('pb122')\n",
    "if 'pb122' in namelist:\n",
    "    print(\"Now I know pb122!\")\n"
   ]
  },
  {
   "cell_type": "markdown",
   "metadata": {},
   "source": [
    "3. namelist.extend('theelous3') modifies namelist in place and returns None, which shouldn't be added in the list again. We should use + to concatenate or use append the list instead."
   ]
  },
  {
   "cell_type": "code",
   "execution_count": 5,
   "metadata": {},
   "outputs": [
    {
     "name": "stdout",
     "output_type": "stream",
     "text": [
      "I know you!\n"
     ]
    }
   ],
   "source": [
    "namelist = ['wub_wub', 'RubyPinch', 'go|dfish', 'Nitori']+ ['theelous3']\n",
    "\n",
    "if input(\"Enter your name: \") in namelist:\n",
    "    print(\"I know you!\")\n",
    "else:\n",
    "    print(\"I don't know you.\")"
   ]
  },
  {
   "cell_type": "code",
   "execution_count": 6,
   "metadata": {},
   "outputs": [
    {
     "name": "stdout",
     "output_type": "stream",
     "text": [
      "Indices of the two numbers: [0, 1]\n"
     ]
    }
   ],
   "source": [
    "def two_sum(nums, target):\n",
    "    indices = {}  # Dictionary to store seen numbers and indices\n",
    "\n",
    "    for i, num in enumerate(nums):\n",
    "        complement = target - num\n",
    "\n",
    "        if complement in indices:\n",
    "            return [indices[complement], i]  \n",
    "\n",
    "        indices[num] = i  # Add current number and index to the dictionary\n",
    "\n",
    "    return []  \n",
    "\n",
    "# Example usage:\n",
    "nums = [1, 5, 21, 15]\n",
    "target = 6\n",
    "result = two_sum(nums, target)\n",
    "print(\"Indices of the two numbers:\", result)\n"
   ]
  },
  {
   "cell_type": "code",
   "execution_count": 12,
   "metadata": {},
   "outputs": [
    {
     "name": "stdout",
     "output_type": "stream",
     "text": [
      "Modified array: [1, 5, 6, 2, 3, 4, 5]\n",
      "New length: 7\n"
     ]
    }
   ],
   "source": [
    "def remove_duplicates(nums):\n",
    "    if not nums:\n",
    "        return 0  # Empty array has no duplicates\n",
    "\n",
    "    # Initialize slow pointer (to track unique elements)\n",
    "    slow = 0\n",
    "\n",
    "    # Iterate through the array with fast pointer\n",
    "    for fast in range(1, len(nums)):\n",
    "        if nums[fast] != nums[slow]:\n",
    "            # Found a new unique element\n",
    "            slow += 1\n",
    "            nums[slow] = nums[fast]\n",
    "\n",
    "    # The length of the modified array (plus 1 for the first unique element)\n",
    "    return slow + 1\n",
    "\n",
    "\n",
    "sorted_array = [1, 1, 1, 5, 5, 6, 2, 2, 3, 4, 4, 4, 5]\n",
    "length_noduparray = remove_duplicates(sorted_array)\n",
    "print(\"Modified array:\", sorted_array[:length_noduparray])\n",
    "print(\"New length:\", length_noduparray)\n"
   ]
  },
  {
   "cell_type": "code",
   "execution_count": 10,
   "metadata": {},
   "outputs": [
    {
     "name": "stdout",
     "output_type": "stream",
     "text": [
      "[[1], [1, 1], [1, 2, 1], [1, 3, 3, 1], [1, 4, 6, 4, 1]]\n"
     ]
    }
   ],
   "source": [
    "def generate_pascal_triangle(num_rows):\n",
    "    triangle = []\n",
    "    for i in range(num_rows):\n",
    "        row = [1]\n",
    "        if i > 0:\n",
    "            previous_row = triangle[-1]\n",
    "            for j in range(1, i):\n",
    "                element = previous_row[j] + previous_row[j - 1]\n",
    "                row.append(element)\n",
    "            row.append(1)\n",
    "        triangle.append(row)\n",
    "    return triangle\n",
    "num_rows = 5\n",
    "print(generate_pascal_triangle(num_rows))"
   ]
  }
 ],
 "metadata": {
  "kernelspec": {
   "display_name": "Python 3",
   "language": "python",
   "name": "python3"
  },
  "language_info": {
   "codemirror_mode": {
    "name": "ipython",
    "version": 3
   },
   "file_extension": ".py",
   "mimetype": "text/x-python",
   "name": "python",
   "nbconvert_exporter": "python",
   "pygments_lexer": "ipython3",
   "version": "3.11.1"
  }
 },
 "nbformat": 4,
 "nbformat_minor": 2
}
