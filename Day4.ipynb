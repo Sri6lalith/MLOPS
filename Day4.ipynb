{
 "cells": [
  {
   "cell_type": "code",
   "execution_count": 1,
   "metadata": {},
   "outputs": [
    {
     "name": "stdout",
     "output_type": "stream",
     "text": [
      "Monthly Expenses: [2200, 2350, 2600, 2130, 2190]\n",
      "Extra spending in February: 150\n",
      "Total expense in the first quarter: 7150\n",
      "Spent exactly $2000 in any month: False\n",
      "Monthly Expenses: [2200, 2350, 2600, 2130, 2190, 1980]\n",
      "Monthly Expenses of April after refund: 1930\n"
     ]
    }
   ],
   "source": [
    "monthly_expenses = [2200, 2350, 2600, 2130, 2190]\n",
    "print(\"Monthly Expenses:\", monthly_expenses)\n",
    "# Calculate extra spending in February compared to January\n",
    "january_expense = monthly_expenses[0]\n",
    "february_expense = monthly_expenses[1]\n",
    "march_expense = monthly_expenses[2]\n",
    "april_expense = monthly_expenses[3]\n",
    "may__expense = monthly_expenses[4]\n",
    "\n",
    "extra_spending_february = february_expense - january_expense\n",
    "print(\"Extra spending in February:\", extra_spending_february)\n",
    "# Calculate total expense in the first quarter\n",
    "totalexpense_firstquarter = sum(monthly_expenses[:3])\n",
    "print(\"Total expense in the first quarter:\", totalexpense_firstquarter)\n",
    "# Check if you spent exactly $2000 in any month\n",
    "spent_2000 = 2000 in monthly_expenses\n",
    "print(\"Spent exactly $2000 in any month:\", spent_2000)\n",
    "# Add June's expense\n",
    "june_expense = 1980\n",
    "monthly_expenses.append(june_expense)\n",
    "print(\"Monthly Expenses:\", monthly_expenses)\n",
    "# Correct April's expense after refund\n",
    "corrected_april_expense = april_expense - 200\n",
    "monthly_expenses[3] = corrected_april_expense\n",
    "print(\"Monthly Expenses of April after refund:\", monthly_expenses[3])\n",
    "\n",
    "\n",
    "\n"
   ]
  },
  {
   "cell_type": "markdown",
   "metadata": {},
   "source": [
    "1. remove the comma at the end in 2nd line"
   ]
  },
  {
   "cell_type": "code",
   "execution_count": 3,
   "metadata": {},
   "outputs": [
    {
     "name": "stdout",
     "output_type": "stream",
     "text": [
      "Hello!\n",
      "Your name is sri.\n"
     ]
    }
   ],
   "source": [
    "print(\"Hello!\")\n",
    "name = input(\"Enter your name: \")\n",
    "print(\"Your name is \" + name + \".\")\n"
   ]
  },
  {
   "cell_type": "markdown",
   "metadata": {},
   "source": [
    "2. convert tuple into list. As tuples are immutable we cannot add values."
   ]
  },
  {
   "cell_type": "code",
   "execution_count": null,
   "metadata": {},
   "outputs": [],
   "source": [
    "namelist = ['wub_wub', 'RubyPinch', 'go|dfish', 'Nitori']\n",
    "namelist.append('pb122')\n",
    "if 'pb122' in namelist:\n",
    "    print(\"Now I know pb122!\")\n"
   ]
  },
  {
   "cell_type": "markdown",
   "metadata": {},
   "source": [
    "3. namelist.extend('theelous3') modifies namelist in place and returns None, which shouldn't be added in the list again. We should use + to concatenate or use append the list instead."
   ]
  },
  {
   "cell_type": "code",
   "execution_count": 5,
   "metadata": {},
   "outputs": [
    {
     "name": "stdout",
     "output_type": "stream",
     "text": [
      "I know you!\n"
     ]
    }
   ],
   "source": [
    "namelist = ['wub_wub', 'RubyPinch', 'go|dfish', 'Nitori']+ ['theelous3']\n",
    "\n",
    "if input(\"Enter your name: \") in namelist:\n",
    "    print(\"I know you!\")\n",
    "else:\n",
    "    print(\"I don't know you.\")"
   ]
  },
  {
   "cell_type": "code",
   "execution_count": 6,
   "metadata": {},
   "outputs": [
    {
     "name": "stdout",
     "output_type": "stream",
     "text": [
      "Indices of the two numbers: [0, 1]\n"
     ]
    }
   ],
   "source": [
    "def two_sum(nums, target):\n",
    "    indices = {}  # Dictionary to store seen numbers and indices\n",
    "\n",
    "    for i, num in enumerate(nums):\n",
    "        complement = target - num\n",
    "\n",
    "        if complement in indices:\n",
    "            return [indices[complement], i]  \n",
    "\n",
    "        indices[num] = i  # Add current number and index to the dictionary\n",
    "\n",
    "    return []  \n",
    "\n",
    "# Example usage:\n",
    "nums = [1, 5, 21, 15]\n",
    "target = 6\n",
    "result = two_sum(nums, target)\n",
    "print(\"Indices of the two numbers:\", result)\n"
   ]
  },
  {
   "cell_type": "code",
   "execution_count": 12,
   "metadata": {},
   "outputs": [
    {
     "name": "stdout",
     "output_type": "stream",
     "text": [
      "Modified array: [1, 5, 6, 2, 3, 4, 5]\n",
      "New length: 7\n"
     ]
    }
   ],
   "source": [
    "def remove_duplicates(nums):\n",
    "    if not nums:\n",
    "        return 0  # Empty array has no duplicates\n",
    "\n",
    "    # Initialize slow pointer (to track unique elements)\n",
    "    slow = 0\n",
    "\n",
    "    # Iterate through the array with fast pointer\n",
    "    for fast in range(1, len(nums)):\n",
    "        if nums[fast] != nums[slow]:\n",
    "            # Found a new unique element\n",
    "            slow += 1\n",
    "            nums[slow] = nums[fast]\n",
    "\n",
    "    # The length of the modified array (plus 1 for the first unique element)\n",
    "    return slow + 1\n",
    "\n",
    "\n",
    "sorted_array = [1, 1, 1, 5, 5, 6, 2, 2, 3, 4, 4, 4, 5]\n",
    "length_noduparray = remove_duplicates(sorted_array)\n",
    "print(\"Modified array:\", sorted_array[:length_noduparray])\n",
    "print(\"New length:\", length_noduparray)\n"
   ]
  },
  {
   "cell_type": "code",
   "execution_count": 10,
   "metadata": {},
   "outputs": [
    {
     "name": "stdout",
     "output_type": "stream",
     "text": [
      "[[1], [1, 1], [1, 2, 1], [1, 3, 3, 1], [1, 4, 6, 4, 1]]\n"
     ]
    }
   ],
   "source": [
    "def generate_pascal_triangle(num_rows):\n",
    "    triangle = []\n",
    "    for i in range(num_rows):\n",
    "        row = [1]\n",
    "        if i > 0:\n",
    "            previous_row = triangle[-1]\n",
    "            for j in range(1, i):\n",
    "                element = previous_row[j] + previous_row[j - 1]\n",
    "                row.append(element)\n",
    "            row.append(1)\n",
    "        triangle.append(row)\n",
    "    return triangle\n",
    "num_rows = 5\n",
    "print(generate_pascal_triangle(num_rows))"
   ]
  },
  {
   "cell_type": "markdown",
   "metadata": {},
   "source": [
    "Product of Array Except Self: Given an integer array nums, return an array where the ith element is the product of all the elements in nums except the ith element.\n",
    "\n",
    "Solution: Use two passes with a list (mutable). In the first pass, calculate the product of all elements to the left of each index. In the second pass, calculate the product of all elements to the right of each index and multiply it with the previously calculated left product for each index. Finally, convert the list to a tuple (immutable) for the final result.\n",
    "[1, 3, 5, 7]\n",
    "Left Products:\n",
    "\n",
    "left_products starts as [1, 0, 0, 0].\n",
    "Iteration:\n",
    "left_products[1] = left_products[0] * nums[0] = 1 * 1 = 1\n",
    "left_products[2] = left_products[1] * nums[1] = 1 * 3 = 3\n",
    "left_products[3] = left_products[2] * nums[2] = 3 * 5 = 15\n",
    "Result: left_products = [1, 1, 3, 15].\n",
    "\n",
    "Right Products:\n",
    "\n",
    "right_products starts as [0, 0, 0, 1].\n",
    "Iteration:\n",
    "right_products[2] = right_products[3] * nums[3] = 1 * 7 = 7\n",
    "right_products[1] = right_products[2] * nums[2] = 7 * 5 = 35\n",
    "right_products[0] = right_products[1] * nums[1] = 35 * 3 = 105\n",
    "Result: right_products = [105, 35, 7, 1].\n",
    "Final Result:\n",
    "\n",
    "result starts as [0, 0, 0, 0].\n",
    "Iteration:\n",
    "result[0] = left_products[0] * right_products[0] = 1 * 105 = 105\n",
    "result[1] = left_products[1] * right_products[1] = 1 * 35 = 35\n",
    "result[2] = left_products[2] * right_products[2] = 3 * 7 = 21\n",
    "result[3] = left_products[3] * right_products[3] = 15 * 1 = 15\n",
    "Result: result = [105, 35, 21, 15]."
   ]
  },
  {
   "cell_type": "code",
   "execution_count": 1,
   "metadata": {},
   "outputs": [
    {
     "name": "stdout",
     "output_type": "stream",
     "text": [
      "(105, 35, 21, 15)\n"
     ]
    }
   ],
   "source": [
    "def product_except_self(nums):\n",
    "    n = len(nums)\n",
    "    left_products = [0] * n\n",
    "    right_products = [0] * n\n",
    "    result = [0] * n\n",
    "    \n",
    "    #  Calculate left products\n",
    "    left_products[0] = 1\n",
    "    for i in range(1, n):\n",
    "        left_products[i] = left_products[i - 1] * nums[i - 1]\n",
    "    \n",
    "    # Calculate right products\n",
    "    right_products[n - 1] = 1\n",
    "    for i in range(n - 2, -1, -1):\n",
    "        right_products[i] = right_products[i + 1] * nums[i + 1]\n",
    "    \n",
    "    #  Calculate result by multiplying left and right products\n",
    "    for i in range(n):\n",
    "        result[i] = left_products[i] * right_products[i]\n",
    "    \n",
    "    # Convert result to tuple\n",
    "    return tuple(result)\n",
    "\n",
    "nums = [1, 3, 5, 7]\n",
    "print(product_except_self(nums))  \n"
   ]
  },
  {
   "cell_type": "markdown",
   "metadata": {},
   "source": [
    "Contains Duplicate: Given an integer array nums, return True if any element appears in the array more than once and False otherwise.\n",
    "\n",
    "Solution: Use a set to store seen numbers. If adding a new element to the set fails (meaning a duplicate exists), return True. Otherwise, the loop continues, and False is returned at the end."
   ]
  },
  {
   "cell_type": "code",
   "execution_count": 2,
   "metadata": {},
   "outputs": [
    {
     "name": "stdout",
     "output_type": "stream",
     "text": [
      "False\n",
      "True\n"
     ]
    }
   ],
   "source": [
    "def contains_duplicate(nums):\n",
    "    seen = set()\n",
    "    for num in nums:\n",
    "        if num in seen:\n",
    "            return True\n",
    "        seen.add(num)\n",
    "    return False\n",
    "\n",
    "\n",
    "nums = [1, 6, 7, 4, 5]\n",
    "print(contains_duplicate(nums))  \n",
    "\n",
    "nums = [5, 2, 8, 9, 2, 3]\n",
    "print(contains_duplicate(nums))  \n"
   ]
  },
  {
   "cell_type": "markdown",
   "metadata": {},
   "source": [
    "Intersection of Two Arrays: Given two integer arrays nums1 and nums2, return the intersection of the two arrays.\n",
    "\n",
    "Solution: Convert one of the arrays to a set and iterate through the other array. If an element exists in the set, it's part of the intersection, so add it to the result list. Finally, convert the list to a set to remove duplicates if necessary."
   ]
  },
  {
   "cell_type": "code",
   "execution_count": 4,
   "metadata": {},
   "outputs": [
    {
     "name": "stdout",
     "output_type": "stream",
     "text": [
      "[8, 6]\n"
     ]
    }
   ],
   "source": [
    "def intersection(nums1, nums2):\n",
    "    # Convert nums1 to a set\n",
    "    set_nums1 = set(nums1)\n",
    "    \n",
    "    # Iterate through nums2 and find intersections\n",
    "    result = []\n",
    "    for num in nums2:\n",
    "        if num in set_nums1:\n",
    "            result.append(num)\n",
    "    \n",
    "    # Remove duplicates by converting to a set and back to a list\n",
    "    return list(set(result))\n",
    "\n",
    "nums1 = [6, 8, 5]\n",
    "nums2 = [8, 6, 8, 7, 6]\n",
    "print(intersection(nums1, nums2)) \n"
   ]
  },
  {
   "cell_type": "markdown",
   "metadata": {},
   "source": [
    "Longest Substring Without Repeating Characters: Given a string s, find the length of the longest substring without repeating characters.\n",
    "\n",
    "Solution: Use a dictionary to store the last seen index of each character. As you iterate through the string, keep track of the start index of the current substring. If you encounter a duplicate character, update the start index to be the max of the current start index and the last seen index of the duplicate character + 1 (to skip the duplicate). Keep track of the maximum length of the substring seen so far."
   ]
  },
  {
   "cell_type": "code",
   "execution_count": 9,
   "metadata": {},
   "outputs": [
    {
     "name": "stdout",
     "output_type": "stream",
     "text": [
      "Length of longest substring without repeating characters: 4\n"
     ]
    }
   ],
   "source": [
    "def length_of_longest_substring(s):\n",
    "    char_index = {}  # Stores the last seen index of each character\n",
    "    start = 0  # Start index of the current substring\n",
    "    max_length = 0  # Maximum length of substring without repeating characters\n",
    "\n",
    "    for end in range(len(s)):\n",
    "        if s[end] in char_index:\n",
    "            start = max(start, char_index[s[end]] + 1)\n",
    "        char_index[s[end]] = end\n",
    "        max_length = max(max_length, end - start + 1)\n",
    "\n",
    "    return max_length\n",
    "\n",
    "input_string = \"cbdeeecdb\"\n",
    "result = length_of_longest_substring(input_string)\n",
    "print(f\"Length of longest substring without repeating characters: {result}\")\n"
   ]
  }
 ],
 "metadata": {
  "kernelspec": {
   "display_name": "Python 3",
   "language": "python",
   "name": "python3"
  },
  "language_info": {
   "codemirror_mode": {
    "name": "ipython",
    "version": 3
   },
   "file_extension": ".py",
   "mimetype": "text/x-python",
   "name": "python",
   "nbconvert_exporter": "python",
   "pygments_lexer": "ipython3",
   "version": "3.11.1"
  }
 },
 "nbformat": 4,
 "nbformat_minor": 2
}
