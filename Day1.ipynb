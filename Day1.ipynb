{
 "cells": [
  {
   "cell_type": "markdown",
   "metadata": {},
   "source": [
    "1. We cannot use break as a variable as it is a keyword. When we use it we get a syntax error."
   ]
  },
  {
   "cell_type": "code",
   "execution_count": 4,
   "metadata": {},
   "outputs": [
    {
     "ename": "SyntaxError",
     "evalue": "invalid syntax (2709188746.py, line 1)",
     "output_type": "error",
     "traceback": [
      "\u001b[1;36m  Cell \u001b[1;32mIn[4], line 1\u001b[1;36m\u001b[0m\n\u001b[1;33m    break = 5\u001b[0m\n\u001b[1;37m          ^\u001b[0m\n\u001b[1;31mSyntaxError\u001b[0m\u001b[1;31m:\u001b[0m invalid syntax\n"
     ]
    }
   ],
   "source": [
    "break = 5"
   ]
  },
  {
   "cell_type": "markdown",
   "metadata": {},
   "source": [
    "2. Create two variables. One to store your birth year and another one to store current year. Now calculate your age using these two variables."
   ]
  },
  {
   "cell_type": "code",
   "execution_count": 15,
   "metadata": {},
   "outputs": [
    {
     "name": "stdout",
     "output_type": "stream",
     "text": [
      "I am 25 years old\n"
     ]
    }
   ],
   "source": [
    "year_of_birth = 1999\n",
    "present_year = 2024\n",
    "age = present_year - year_of_birth\n",
    "print(f\"I am {age} years old\")"
   ]
  },
  {
   "cell_type": "markdown",
   "metadata": {},
   "source": [
    "3. Store your first, middle and last name in three different variables and then print your full name using these variables"
   ]
  },
  {
   "cell_type": "code",
   "execution_count": 23,
   "metadata": {},
   "outputs": [
    {
     "name": "stdout",
     "output_type": "stream",
     "text": [
      "My name is Sri Nithya Anne.\n"
     ]
    }
   ],
   "source": [
    "first_name = \"Sri\"\n",
    "middle_name = \"Nithya\"\n",
    "last_name = \"Anne\"\n",
    "full_name = first_name+ \" \" + middle_name + \" \" + last_name\n",
    "print(f\"My name is {full_name}.\")\n"
   ]
  },
  {
   "cell_type": "markdown",
   "metadata": {},
   "source": [
    "4. Answer which of these are invalid variable names: _nation 1record record1 record_one record-one record^one continue\n",
    "\n",
    "_nation - Valid. We can use underscore in variable names,\n",
    "1record - Invalid. We cannot start a variable name with a number,\n",
    "record1 - Valid. We can use numbers in variable names,\n",
    "record_one - Valid. We can use underscore in variable names,\n",
    "record-one - Invalid. We cannot use hyphen in variable names"
   ]
  },
  {
   "cell_type": "markdown",
   "metadata": {},
   "source": []
  },
  {
   "cell_type": "markdown",
   "metadata": {},
   "source": [
    "5. You have a football field that is 92 meter long and 48.8 meter wide. Find out total area using python and print it."
   ]
  },
  {
   "cell_type": "code",
   "execution_count": 32,
   "metadata": {},
   "outputs": [
    {
     "name": "stdout",
     "output_type": "stream",
     "text": [
      "Total area of the football field is 4490 square meters\n"
     ]
    }
   ],
   "source": [
    "length = 92\n",
    "width = 48.8\n",
    "total_area = length * width\n",
    "print(f\"Total area of the football field is {round(total_area)} square meters\")"
   ]
  },
  {
   "cell_type": "markdown",
   "metadata": {},
   "source": [
    "6. You bought 9 packets of potato chips from a store. Each packet costs 1.49 dollar and you gave shopkeeper 20 dollar. Find out using python, how many dollars is the shopkeeper going to give you back?\n",
    "\n"
   ]
  },
  {
   "cell_type": "code",
   "execution_count": 33,
   "metadata": {},
   "outputs": [
    {
     "name": "stdout",
     "output_type": "stream",
     "text": [
      "I have received $6.59 from the shopkeeper.\n"
     ]
    }
   ],
   "source": [
    "packets_purchased = 9\n",
    "each_packet_cost = 1.49\n",
    "total_cost = packets_purchased * each_packet_cost\n",
    "amount_paid = 20\n",
    "change = amount_paid - total_cost\n",
    "print(f\"I have received ${change} from the shopkeeper.\")"
   ]
  },
  {
   "cell_type": "markdown",
   "metadata": {},
   "source": [
    "7. You want to replace tiles in your bathroom which is exactly square and 5.5 feet is its length. If tiles cost 500 rs per square feet, how much will be the total cost to replace all tiles. Calculate and print the cost using python (Hint: Use power operator ** to find area of a square)\n",
    "\n"
   ]
  },
  {
   "cell_type": "code",
   "execution_count": 39,
   "metadata": {},
   "outputs": [
    {
     "name": "stdout",
     "output_type": "stream",
     "text": [
      "Total cost to replace all tiles is Rs.15125.0\n"
     ]
    }
   ],
   "source": [
    "tile_length = 5.5\n",
    "cost_per_sqft = 500\n",
    "total_cost = (tile_length ** 2) * cost_per_sqft\n",
    "print(f\"Total cost to replace all tiles is Rs.{total_cost}\")"
   ]
  },
  {
   "cell_type": "markdown",
   "metadata": {},
   "source": [
    "Print binary representation of number 17"
   ]
  },
  {
   "cell_type": "code",
   "execution_count": 47,
   "metadata": {},
   "outputs": [
    {
     "name": "stdout",
     "output_type": "stream",
     "text": [
      "17 is represented in binary as 0b10001.\n"
     ]
    }
   ],
   "source": [
    "num = 17\n",
    "print(f\"17 is represented in binary as {bin(num)}.\")"
   ]
  },
  {
   "cell_type": "markdown",
   "metadata": {},
   "source": [
    "9. A movie theater charges different prices for adults, children, and seniors.\n",
    "\n",
    "Adults: $12.50\n",
    "\n",
    "Children (under 12): $8.00\n",
    "\n",
    "Seniors (over 65): $10.00\n",
    "\n",
    "Write a Python program that asks the user for their age and then calculates the movie ticket price based on their age category. Print the appropriate price."
   ]
  },
  {
   "cell_type": "code",
   "execution_count": 2,
   "metadata": {},
   "outputs": [
    {
     "name": "stdout",
     "output_type": "stream",
     "text": [
      "Ticket price for Adults is $12.5.\n"
     ]
    }
   ],
   "source": [
    "#age = int(input(\"Enter your age: \"))\n",
    "age = 65\n",
    "if age > 65:\n",
    "    price = 10.00\n",
    "    print(f\"Ticket price for Seniors over 65 is ${price}.\")\n",
    "elif age < 12:\n",
    "    price = 8.00\n",
    "    print(f\"Ticket price for Childeren under 12 is ${price}.\")\n",
    "else:\n",
    "    price = 12.50\n",
    "    print(f\"Ticket price for Adults is ${price}.\")"
   ]
  },
  {
   "cell_type": "markdown",
   "metadata": {},
   "source": [
    "10. An online store offers free shipping for orders above $50.\n",
    "\n",
    "Write a program that asks the user for the total amount of their shopping cart.\n",
    "\n",
    "If the amount is greater than or equal to $50, print \"Free shipping!\" else print \"Shipping charges apply.\""
   ]
  },
  {
   "cell_type": "code",
   "execution_count": 4,
   "metadata": {},
   "outputs": [
    {
     "name": "stdout",
     "output_type": "stream",
     "text": [
      "Free shipping!\n"
     ]
    }
   ],
   "source": [
    "#ordered_amount = float(input(\"Enter order amount: \"))\n",
    "total_order_amount = 78\n",
    "if total_order_amount > 50:\n",
    "    print(\"Free shipping!\")\n",
    "else:\n",
    "    print(\"Shipping charges apply.\")"
   ]
  },
  {
   "cell_type": "markdown",
   "metadata": {},
   "source": [
    "11. A year is a leap year if it is divisible by 4 (except for years divisible by 100 but not by 400). Write a Python program that asks the user for a year and Print \"Leap year!\" if the year is a leap year, otherwise print \"Not a leap year.\""
   ]
  },
  {
   "cell_type": "code",
   "execution_count": 5,
   "metadata": {},
   "outputs": [
    {
     "name": "stdout",
     "output_type": "stream",
     "text": [
      "Leap year!\n"
     ]
    }
   ],
   "source": [
    "#year = int(input(\"Enter a year\"))\n",
    "year = 2024\n",
    "if (year % 4 == 0 and year % 100 != 0) or (year % 400 == 0):\n",
    "    print(\"Leap year!\")\n",
    "else:\n",
    "    print(\"Not a leap year.\")"
   ]
  },
  {
   "cell_type": "markdown",
   "metadata": {},
   "source": [
    "12. Write a Python program that asks the user to enter a temperature value. It should then ask the user to specify the unit (Celsius 'C' or Fahrenheit 'F'). The program should:\n",
    "\n",
    "Store the temperature and unit in separate variables. Use an if-else statement to check the unit and convert the temperature accordingly (provide conversion logic for both directions or indicate that conversion is not supported for the entered unit using None). Print the converted temperature with the appropriate unit label (e.g., \"32 degrees Fahrenheit\")."
   ]
  },
  {
   "cell_type": "code",
   "execution_count": 16,
   "metadata": {},
   "outputs": [
    {
     "name": "stdout",
     "output_type": "stream",
     "text": [
      "Temperature is 27.38888888888889 degrees Celsius\n"
     ]
    }
   ],
   "source": [
    "#temp = float(input(\"Enter temperature\"))\n",
    "temp = 81.3\n",
    "#unit = input(\"Enter unit (C/F): \").upper()\n",
    "unit = 'F'\n",
    "if unit == \"C\":\n",
    "    converted_temp = (temp * 9/5) + 32\n",
    "    print(f\"Temperature is {converted_temp} degrees Fahrenheit\")\n",
    "elif unit == \"F\":\n",
    "    converted_temp = (temp - 32) * 5/9\n",
    "    print(f\"Temperature is {converted_temp} degrees Celsius\")\n",
    "else:\n",
    "    print(\"Invalid input. Please enter a valid unit.\")"
   ]
  }
 ],
 "metadata": {
  "kernelspec": {
   "display_name": "Python 3",
   "language": "python",
   "name": "python3"
  },
  "language_info": {
   "codemirror_mode": {
    "name": "ipython",
    "version": 3
   },
   "file_extension": ".py",
   "mimetype": "text/x-python",
   "name": "python",
   "nbconvert_exporter": "python",
   "pygments_lexer": "ipython3",
   "version": "3.11.1"
  }
 },
 "nbformat": 4,
 "nbformat_minor": 2
}
