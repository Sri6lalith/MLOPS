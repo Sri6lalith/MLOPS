{
 "cells": [
  {
   "cell_type": "markdown",
   "metadata": {},
   "source": [
    "break\n",
    "Use: Exiting a loop when a specific value is found.\n",
    "For example, while searching for a specific contents or word in a file, you can stop reading the file line by line as soon as you find the word.\n",
    "2. To find the first prime number greater than 10. You can use break to exit the loop as soon as you find it.\n",
    "\n"
   ]
  },
  {
   "cell_type": "code",
   "execution_count": 5,
   "metadata": {},
   "outputs": [
    {
     "name": "stdout",
     "output_type": "stream",
     "text": [
      "11\n"
     ]
    }
   ],
   "source": [
    "def first_prime_after_10():\n",
    "    for num in range(11, 19):\n",
    "        for i in range(2, int(num**0.5) + 1):\n",
    "            if num % i == 0:\n",
    "                break  # Exit the inner loop\n",
    "        else:\n",
    "            return num \n",
    "print(first_prime_after_10())  \n"
   ]
  },
  {
   "cell_type": "markdown",
   "metadata": {},
   "source": [
    "continue: Skips the current iteration and moves to the next one. It’s useful when you want to skip specific items in a loop but continue with the rest of the loop. For Example, analyzing student scores. You want to calculate the average score, excluding any scores below 60. You can use continue to skip below 70 scores:"
   ]
  },
  {
   "cell_type": "code",
   "execution_count": 2,
   "metadata": {},
   "outputs": [
    {
     "name": "stdout",
     "output_type": "stream",
     "text": [
      "82.33333333333333\n"
     ]
    }
   ],
   "source": [
    "def cal_average(scores):\n",
    "    total = 0\n",
    "    count = 0\n",
    "    for score in scores:\n",
    "        if score < 70:\n",
    "            continue  # Skip this score\n",
    "        total += score\n",
    "        count += 1\n",
    "    return total / count if count > 0 else 0\n",
    "\n",
    "student_scores = [75, 82, 45, 90, 68, 55]\n",
    "print(cal_average(student_scores))"
   ]
  },
  {
   "cell_type": "markdown",
   "metadata": {},
   "source": [
    "pass: Does nothing. It’s often used as a placeholder when you need a statement but don’t want it to do anything. For instance, when defining a class or function that you plan to implement later."
   ]
  },
  {
   "cell_type": "code",
   "execution_count": 3,
   "metadata": {},
   "outputs": [],
   "source": [
    "class MyEmptyClass:\n",
    "    pass  # Placeholder for future implementation\n",
    "\n",
    "def my_function():\n",
    "    pass  # Placeholder for function logic\n"
   ]
  },
  {
   "cell_type": "markdown",
   "metadata": {},
   "source": [
    "In-build methods in python ? List them with definition and one example"
   ]
  },
  {
   "cell_type": "markdown",
   "metadata": {},
   "source": [
    "1. len() - Returns the length of an object\n",
    "\n",
    "Definition: Returns the number of items in an object.\n",
    "\n",
    "Example: len(\"hello\") # returns 5\n",
    "\n",
    "2. type() - Returns the type of an object\n",
    "\n",
    "Definition: Returns the type of an object.\n",
    "\n",
    "Example: type(\"hello\") # returns <class 'str'>\n",
    "\n",
    "3. print() - Prints output to the screen\n",
    "\n",
    "Definition: Prints output to the screen.\n",
    "\n",
    "Example: print(\"Hello, World!\") # prints \"Hello, World!\"\n",
    "\n",
    "4. int() - Converts a value to an integer\n",
    "\n",
    "Definition: Converts a value to an integer.\n",
    "\n",
    "Example: int(\"5\") # returns 5\n",
    "\n",
    "5. float() - Converts a value to a floating-point number\n",
    "\n",
    "Definition: Converts a value to a floating-point number.\n",
    "\n",
    "Example: float(\"3.14\") # returns 3.14\n",
    "\n",
    "6. str() - Converts a value to a string\n",
    "\n",
    "Definition: Converts a value to a string.\n",
    "\n",
    "Example: str(5) # returns \"5\"\n",
    "\n",
    "7. list() - Converts a value to a list\n",
    "\n",
    "Definition: Converts a value to a list.\n",
    "\n",
    "Example: list(\"hello\") # returns [\"h\", \"e\", \"l\", \"l\", \"o\"]\n",
    "\n",
    "8. dict() - Converts a value to a dictionary\n",
    "\n",
    "Definition: Converts a value to a dictionary.\n",
    "\n",
    "Example: dict({\"a\": 1, \"b\": 2}) # returns {\"a\": 1, \"b\": 2}\n",
    "\n",
    "9. set() - Converts a value to a set\n",
    "\n",
    "Definition: Converts a value to a set.\n",
    "\n",
    "Example: set(\"hello\") # returns {\"h\", \"e\", \"l\", \"o\"}\n",
    "\n",
    "10. range() - Returns a sequence of numbers\n",
    "\n",
    "Definition: Returns a sequence of numbers.\n",
    "\n",
    "Example: range(5) # returns [0, 1, 2, 3, 4]\n",
    "\n",
    "11. sum() - Returns the sum of an iterable\n",
    "\n",
    "Definition: Returns the sum of an iterable.\n",
    "\n",
    "Example: sum([1, 2, 3, 4, 5]) # returns 15\n",
    "\n",
    "12. min() - Returns the minimum value of an iterable\n",
    "\n",
    "Definition: Returns the minimum value of an iterable.\n",
    "\n",
    "Example: min([1, 2, 3, 4, 5]) # returns 1\n",
    "\n",
    "13. max() - Returns the maximum value of an iterable\n",
    "\n",
    "Definition: Returns the maximum value of an iterable.\n",
    "\n",
    "Example: max([1, 2, 3, 4, 5]) # returns 5\n",
    "\n",
    "14. any() - Returns True if any element of an iterable is true\n",
    "\n",
    "Definition: Returns True if any element of an iterable is true.\n",
    "\n",
    "Example: any([True, False, True]) # returns True\n",
    "\n",
    "15. all() - Returns True if all elements of an iterable are true\n",
    "\n",
    "Definition: Returns True if all elements of an iterable are true.\n",
    "\n",
    "Example: all([True, True, True]) # returns True\n",
    "\n",
    "16. enumerate:\n",
    "\n",
    "enumerate is a built-in function in Python. It returns an iterator that produces tuples, where the first element of the tuple is the index of the element in the original sequence, and the second element is the element itself.\n",
    "\n",
    "Example: for i, elem in enumerate([\"a\", \"b\", \"c\"]): print(i, elem)\n",
    "\n",
    "17. lambda:\n",
    "\n",
    "lambda allows you to create small, anonymous functions. It can take any number of arguments and return a result\n",
    "\n",
    "Example: add_ten = lambda x: x + 10; print(add_ten(3)) "
   ]
  }
 ],
 "metadata": {
  "kernelspec": {
   "display_name": "Python 3",
   "language": "python",
   "name": "python3"
  },
  "language_info": {
   "codemirror_mode": {
    "name": "ipython",
    "version": 3
   },
   "file_extension": ".py",
   "mimetype": "text/x-python",
   "name": "python",
   "nbconvert_exporter": "python",
   "pygments_lexer": "ipython3",
   "version": "3.11.1"
  }
 },
 "nbformat": 4,
 "nbformat_minor": 2
}
