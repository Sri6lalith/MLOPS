{
 "cells": [
  {
   "cell_type": "markdown",
   "metadata": {},
   "source": [
    "1. Lists:\n",
    "A list is an ordered collection of items (elements) in Python.\n",
    "\n",
    "-->Ordered: The order of elements in a list matters.\n",
    "-->Mutable: You can modify (add, remove, or change) elements in a list after it’s created.\n",
    "--> Allows Duplicates: A list can contain duplicate values.\n",
    "\n",
    "veggies = [\"tomato\", \"onion\", \"beetroot\"]\n",
    "\n",
    "\n",
    "2. Tuples:\n",
    "A tuple is an ordered, immutable collection of items in Python.\n",
    "\n",
    "--> Ordered: tuples maintain the order of elements.\n",
    "--> Immutable: Once created, you cannot modify the elements in a tuple.\n",
    "--> Allows Duplicates: Tuples can contain duplicate values. \n",
    "coordinates = (50, 20)\n",
    "\n",
    "3. A set is an unordered collection of unique elements in Python.\n",
    "\n",
    "--> Unordered: Elements in a set have no specific order.\n",
    "--> Mutable : You can add or remove elements from a set.\n",
    "--> No Duplicates: Sets automatically remove duplicate values.\n",
    "games = {\"soccer\", \"tennis\", \"baseball\"}\n",
    "\n",
    "4. A dictionary is a collection of key-value pairs in Python.\n",
    "\n",
    "--> Ordered\n",
    "--> Mutable (for values): You can modify the values associated with keys.\n",
    "--> Keys are Unique: Each key in a dictionary must be unique and keys are immutable.\n",
    "employee_info = {\"name\": \"Anne\", \"age\": 25, \"city\": \"Hyderabad\"}\n",
    "\n"
   ]
  }
 ],
 "metadata": {
  "language_info": {
   "name": "python"
  }
 },
 "nbformat": 4,
 "nbformat_minor": 2
}
