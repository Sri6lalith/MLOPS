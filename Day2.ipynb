{
 "cells": [
  {
   "cell_type": "markdown",
   "metadata": {},
   "source": [
    "1. Create a sample class named Employee with two attributes id and name employee : id name object initializes id and name dynamically for every Employee object created\n",
    "\n",
    " emp = Employee(1, \"coder\")"
   ]
  },
  {
   "cell_type": "code",
   "execution_count": 25,
   "metadata": {},
   "outputs": [
    {
     "name": "stdout",
     "output_type": "stream",
     "text": [
      "Sri's employee id is 1\n",
      "Indira's employee id is 2\n"
     ]
    }
   ],
   "source": [
    "class Employee:\n",
    "\n",
    "    def __init__(self, id, name): \n",
    "        self.id = id\n",
    "        self.name = name\n",
    "\n",
    "    def employee_id(self):\n",
    "        print(f\"{self.name}'s employee id is {self.id}\")\n",
    "    \n",
    "emp1 = Employee(1,\"Sri\")\n",
    "emp2 = Employee(2,\"Indira\")\n",
    "emp1.employee_id()\n",
    "emp2.employee_id()\n"
   ]
  },
  {
   "cell_type": "markdown",
   "metadata": {},
   "source": [
    "2. Use del property to first delete id attribute and then the entire object"
   ]
  },
  {
   "cell_type": "code",
   "execution_count": 26,
   "metadata": {},
   "outputs": [
    {
     "name": "stdout",
     "output_type": "stream",
     "text": [
      "Sri has no id\n",
      "Indira's employee id is 2\n"
     ]
    }
   ],
   "source": [
    "class Employee:\n",
    "\n",
    "    def __init__(self, id, name): \n",
    "        self.id = id\n",
    "        self.name = name\n",
    "\n",
    "    def employee_id(self):\n",
    "        if hasattr(self, 'id'):\n",
    "            print(f\"{self.name}'s employee id is {self.id}\")\n",
    "        else:\n",
    "            print(f\"{self.name} has no id\")\n",
    "    \n",
    "emp1 = Employee(1,\"Sri\")\n",
    "emp2 = Employee(2,\"Indira\")\n",
    "del emp1.id\n",
    "emp1.employee_id()\n",
    "emp2.employee_id()\n",
    "del emp1\n"
   ]
  },
  {
   "cell_type": "markdown",
   "metadata": {},
   "source": [
    "3. When would you use a static method instead of a regular method?\n",
    "Static methods belong to the class itself and are not tied to any specific instance (no self parameter).\n",
    "Static methods are often used for utility functions that don’t rely on instance state.\n",
    "They can be called using the class name (e.g., Class_name.static_method()). Use static methods when the functionality doesn’t depend on instance-specific data.\n",
    "We can use it mostly for mathematical calculations, formatting, etc. that don’t need access to instance attributes.\n"
   ]
  },
  {
   "cell_type": "markdown",
   "metadata": {},
   "source": [
    "4. ou defined a class attribute (color) for the Car class. Why can't you directly change the color of a specific car object (e.g., car1.color = \"blue\")? How would you achieve this?\n",
    "Class attribute in Python, it belongs to the class itself rather than any specific instance (object) of that class. the attribute is shared among all instances of the class. A class attribute is defined within the class but outside any methods. It is accessible using the class name (e.g., Car.color) and is shared by all instances of the class.\n",
    "To change the color directly we can use Instance attributes, which are specific to each object created from the class.\n",
    "They are defined within the constructor (__init__) and can vary from instance to instance."
   ]
  },
  {
   "cell_type": "code",
   "execution_count": 27,
   "metadata": {},
   "outputs": [
    {
     "name": "stdout",
     "output_type": "stream",
     "text": [
      "red\n",
      "blue\n"
     ]
    }
   ],
   "source": [
    "class Car:\n",
    "    def __init__(self,color):\n",
    "        self.color = color  # defining color as an instance attribute\n",
    "\n",
    "car1 = Car(\"red\")\n",
    "print(car1.color)  # Output: red\n",
    "\n",
    "# Change the color directly\n",
    "car1.color = \"blue\"\n",
    "print(car1.color)  # Output: blue\n"
   ]
  },
  {
   "cell_type": "markdown",
   "metadata": {},
   "source": [
    "5. Write a short Python program that defines a class Book with attributes like title, author, and price. Include a method get_book_info that returns a formatted string with this information. Create a Book object and call the method to display the book information.\n",
    "\n"
   ]
  },
  {
   "cell_type": "code",
   "execution_count": 28,
   "metadata": {},
   "outputs": [
    {
     "name": "stdout",
     "output_type": "stream",
     "text": [
      "The title of the book is Atomic Habits. It is written by James and price of the book is $90.\n"
     ]
    }
   ],
   "source": [
    "class Book:\n",
    "    def __init__(self, title, author, price):\n",
    "        self.title = title\n",
    "        self.author = author\n",
    "        self.price = price\n",
    "\n",
    "    def get_book_info(self):\n",
    "        return f\"The title of the book is {self.title}. It is written by {self.author} and price of the book is ${self.price}.\"\n",
    "\n",
    "# Create a Book object\n",
    "book1 = Book(\"Atomic Habits\", \"James\", 90)\n",
    "\n",
    "# Call the method to display the book information\n",
    "print(book1.get_book_info())\n"
   ]
  },
  {
   "cell_type": "markdown",
   "metadata": {},
   "source": [
    "6. When would you choose to use a function instead of a method in your Python code? Provide an example to illustrate the difference.\n"
   ]
  },
  {
   "cell_type": "code",
   "execution_count": 29,
   "metadata": {},
   "outputs": [
    {
     "name": "stdout",
     "output_type": "stream",
     "text": [
      "Hello, Sri!\n",
      "Teaches and Monitors students\n"
     ]
    }
   ],
   "source": [
    "#A function is written outside the class and it is a block of code that can be called by its name. They are not associated with any specific class or object.\n",
    "#They can have arguments or no argumentss at all.\n",
    "#Function:\n",
    "def person(name):\n",
    "    print(f\"Hello, {name}!\")\n",
    "\n",
    "person(\"Sri\")  # Calls the function\n",
    "\n",
    "#Methods:\n",
    "#A method is a block of code which is associated with a specific class. They are defined inside a class and operate on the attributes contained by instances of that class.\n",
    "#They require at least one parameter (usually named self) to access object-specific data.\n",
    "\n",
    "class School:\n",
    "    def Teach(self):\n",
    "        print(\"Teaches and Monitors students\")\n",
    "\n",
    "Teacher1 = School()\n",
    "Teacher1.Teach()  # Calls the method"
   ]
  },
  {
   "cell_type": "markdown",
   "metadata": {},
   "source": [
    "7. Can I use too many static variables in a class?\n",
    "Too many static variables can lead to code complexity as it can be harder to test. As one part of your code might depend on other, too many static variables can be less reusable."
   ]
  }
 ],
 "metadata": {
  "kernelspec": {
   "display_name": "Python 3",
   "language": "python",
   "name": "python3"
  },
  "language_info": {
   "codemirror_mode": {
    "name": "ipython",
    "version": 3
   },
   "file_extension": ".py",
   "mimetype": "text/x-python",
   "name": "python",
   "nbconvert_exporter": "python",
   "pygments_lexer": "ipython3",
   "version": "3.11.1"
  }
 },
 "nbformat": 4,
 "nbformat_minor": 2
}
