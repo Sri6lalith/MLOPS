{
 "cells": [
  {
   "cell_type": "code",
   "execution_count": 1,
   "metadata": {},
   "outputs": [
    {
     "ename": "NameError",
     "evalue": "name 'random' is not defined",
     "output_type": "error",
     "traceback": [
      "\u001b[1;31m---------------------------------------------------------------------------\u001b[0m",
      "\u001b[1;31mNameError\u001b[0m                                 Traceback (most recent call last)",
      "Cell \u001b[1;32mIn[1], line 59\u001b[0m\n\u001b[0;32m     57\u001b[0m \u001b[38;5;66;03m# Recommendation system\u001b[39;00m\n\u001b[0;32m     58\u001b[0m recommender \u001b[38;5;241m=\u001b[39m RecommendationSystem(books)\n\u001b[1;32m---> 59\u001b[0m recommendations \u001b[38;5;241m=\u001b[39m \u001b[43mrecommender\u001b[49m\u001b[38;5;241;43m.\u001b[39;49m\u001b[43mrecommend_books\u001b[49m\u001b[43m(\u001b[49m\u001b[43muser\u001b[49m\u001b[43m)\u001b[49m\n\u001b[0;32m     61\u001b[0m \u001b[38;5;66;03m# Output the recommendations\u001b[39;00m\n\u001b[0;32m     62\u001b[0m \u001b[38;5;28mprint\u001b[39m(\u001b[38;5;124m\"\u001b[39m\u001b[38;5;124mRecommended Books:\u001b[39m\u001b[38;5;124m\"\u001b[39m)\n",
      "Cell \u001b[1;32mIn[1], line 31\u001b[0m, in \u001b[0;36mRecommendationSystem.recommend_books\u001b[1;34m(self, user)\u001b[0m\n\u001b[0;32m     28\u001b[0m         recommended_books\u001b[38;5;241m.\u001b[39mappend(book)\n\u001b[0;32m     30\u001b[0m \u001b[38;5;28;01mif\u001b[39;00m \u001b[38;5;28mlen\u001b[39m(recommended_books) \u001b[38;5;241m<\u001b[39m \u001b[38;5;241m5\u001b[39m:\n\u001b[1;32m---> 31\u001b[0m     additional_recommendations \u001b[38;5;241m=\u001b[39m \u001b[43mrandom\u001b[49m\u001b[38;5;241m.\u001b[39msample([book \u001b[38;5;28;01mfor\u001b[39;00m book \u001b[38;5;129;01min\u001b[39;00m \u001b[38;5;28mself\u001b[39m\u001b[38;5;241m.\u001b[39mbooks \u001b[38;5;28;01mif\u001b[39;00m book \u001b[38;5;129;01mnot\u001b[39;00m \u001b[38;5;129;01min\u001b[39;00m recommended_books \u001b[38;5;129;01mand\u001b[39;00m book \u001b[38;5;129;01mnot\u001b[39;00m \u001b[38;5;129;01min\u001b[39;00m user\u001b[38;5;241m.\u001b[39mhistory], \u001b[38;5;241m5\u001b[39m \u001b[38;5;241m-\u001b[39m \u001b[38;5;28mlen\u001b[39m(recommended_books))\n\u001b[0;32m     32\u001b[0m     recommended_books\u001b[38;5;241m.\u001b[39mextend(additional_recommendations)\n\u001b[0;32m     34\u001b[0m \u001b[38;5;28;01mreturn\u001b[39;00m recommended_books\n",
      "\u001b[1;31mNameError\u001b[0m: name 'random' is not defined"
     ]
    }
   ],
   "source": [
    "\n",
    "class Book:\n",
    "    def __init__(self, book_id, title, genre, author):\n",
    "        self.book_id = book_id\n",
    "        self.title = title\n",
    "        self.genre = genre\n",
    "        self.author = author\n",
    "\n",
    "class User:\n",
    "    def __init__(self, user_id, name):\n",
    "        self.user_id = user_id\n",
    "        self.name = name\n",
    "        self.history = []\n",
    "\n",
    "    def add_to_history(self, book):\n",
    "        self.history.append(book)\n",
    "\n",
    "class RecommendationSystem:\n",
    "    def __init__(self, books):\n",
    "        self.books = books\n",
    "\n",
    "    def recommend_books(self, user):\n",
    "        recommended_books = []\n",
    "        user_genres = {book.genre for book in user.history}\n",
    "        user_authors = {book.author for book in user.history}\n",
    "\n",
    "        for book in self.books:\n",
    "            if (book.genre in user_genres or book.author in user_authors) and book not in user.history:\n",
    "                recommended_books.append(book)\n",
    "\n",
    "        if len(recommended_books) < 5:\n",
    "            additional_recommendations = random.sample([book for book in self.books if book not in recommended_books and book not in user.history], 5 - len(recommended_books))\n",
    "            recommended_books.extend(additional_recommendations)\n",
    "\n",
    "        return recommended_books\n",
    "\n",
    "# Sample data\n",
    "books = [\n",
    "    Book(1, \"ABCD\", \"Classics\", \"Manisha\"),\n",
    "    Book(2, \"EFGH\", \"Classics\", \"Swetha\"),\n",
    "    Book(3, \"IJKL\", \"Fantasy\", \"Sangeetha\"),\n",
    "    Book(4, \"MNOP\", \"Classics\", \"Indhu\"),\n",
    "    Book(5, \"QRST\", \"Classics\", \"Nithya\"),\n",
    "    Book(6, \"UVWX\", \"Dystopian\", \"Anna\"),\n",
    "    Book(7, \"The Hobbit\", \"Fantasy\", \"J.R.R. Tolkien\"),\n",
    "    Book(8, \"Harry Potter and the Sorcerer's Stone\", \"Fantasy\", \"J.K. Rowling\"),\n",
    "    Book(9, \"The Fellowship of the Ring\", \"Fantasy\", \"J.R.R. Tolkien\"),\n",
    "    Book(10, \"The Two Towers\", \"Fantasy\", \"J.R.R. Tolkien\")\n",
    "\n",
    "]\n",
    "\n",
    "# User history\n",
    "user = User(1, \"Bittu\")\n",
    "user.add_to_history(books[0])\n",
    "user.add_to_history(books[1])\n",
    "user.add_to_history(books[3])\n",
    "\n",
    "# Recommendation system\n",
    "recommender = RecommendationSystem(books)\n",
    "recommendations = recommender.recommend_books(user)\n",
    "\n",
    "# Output the recommendations\n",
    "print(\"Recommended Books:\")\n",
    "for book in recommendations:\n",
    "    print(f\"{book.title} by {book.author} ({book.genre})\")"
   ]
  },
  {
   "cell_type": "code",
   "execution_count": null,
   "metadata": {},
   "outputs": [],
   "source": [
    "\n",
    "My observations:-\n",
    "\n",
    "-Classes and Objects:\n",
    "\n",
    "1. 'Book'class represents a book with attributes like 'book_id', 'title', 'genre', and 'author'.\n",
    "2. 'User' class represents a user with a history of read books.\n",
    "3. 'RecommendationSystem' class encapsulates the recommendation logic.\n",
    "\n",
    "-Encapsulation:\n",
    "The 'Book', 'User', and 'RecommendationSystem' classes encapsulate data and methods related to books, users, and recommendations, respectively.\n",
    "\n",
    "-Abstraction:\n",
    "The 'recommend_books' method abstracts the recommendation logic.\n",
    "\n",
    "\n",
    "-Polymorphism:\n",
    "The 'recommend_books' method works with objects of the 'Book' class without knowing their internal details, as long as they provide the necessary attributes.\n",
    "\n",
    "\n"
   ]
  }
 ],
 "metadata": {
  "kernelspec": {
   "display_name": "Python 3",
   "language": "python",
   "name": "python3"
  },
  "language_info": {
   "codemirror_mode": {
    "name": "ipython",
    "version": 3
   },
   "file_extension": ".py",
   "mimetype": "text/x-python",
   "name": "python",
   "nbconvert_exporter": "python",
   "pygments_lexer": "ipython3",
   "version": "3.11.1"
  }
 },
 "nbformat": 4,
 "nbformat_minor": 2
}
